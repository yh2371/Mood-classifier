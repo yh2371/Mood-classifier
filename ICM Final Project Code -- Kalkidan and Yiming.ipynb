{
 "cells": [
  {
   "cell_type": "markdown",
   "metadata": {},
   "source": [
    "## Packages"
   ]
  },
  {
   "cell_type": "code",
   "execution_count": 1,
   "metadata": {
    "collapsed": true
   },
   "outputs": [],
   "source": [
    "from pylab import *\n",
    "import pretty_midi\n",
    "import librosa          \n",
    "import librosa.display     \n",
    "import IPython.display     \n",
    "import matplotlib.pyplot as plt \n",
    "import matplotlib.style as ms   \n",
    "import numpy as np          \n",
    "ms.use('seaborn-muted')         \n",
    "from __future__ import print_function\n",
    "\n",
    "from sklearn.naive_bayes import GaussianNB\n",
    "import numpy as np\n",
    "import pandas as pd\n",
    "from pandas import DataFrame\n",
    "\n",
    "from pylab import *\n",
    "%matplotlib inline \n",
    "import random\n",
    "import copy"
   ]
  },
  {
   "cell_type": "markdown",
   "metadata": {},
   "source": [
    "## Some Functions"
   ]
  },
  {
   "cell_type": "markdown",
   "metadata": {},
   "source": [
    "### Handy"
   ]
  },
  {
   "cell_type": "code",
   "execution_count": 10,
   "metadata": {
    "collapsed": true
   },
   "outputs": [],
   "source": [
    "def matrix2notes(m):\n",
    "    #input: m, a N by 4 matrix (4 means starting time, ending time, pitch, velocity)\n",
    "    # first sort the matrix to make sure starting time is in order\n",
    "    m = array(m)\n",
    "    m = m[argsort(m[:,0]),:] #argsort gives you the index before the sorting\n",
    "    # transfer the databack to note list\n",
    "    notes=[pretty_midi.Note(start=m[i,0], end=m[i,1], pitch=int(m[i,2]), velocity= int(m[i,3]) ) \n",
    "                            for i in range(size(m,0))]\n",
    "    return notes\n",
    "\n",
    "sr = 22050\n",
    "\n",
    "def conc(*args):\n",
    "    chunk = array([])\n",
    "    for i in args:\n",
    "        chunk = append(chunk, i)\n",
    "    return chunk\n",
    "\n",
    "def am(plate, stuff):\n",
    "    delta = len(stuff) - len(plate)\n",
    "    if delta < 0:\n",
    "        return plate * append(stuff, zeros(-delta))\n",
    "    else:\n",
    "        return plate * stuff[:len(plate)]\n",
    "\n",
    "def save(name,wave,sr = 22050):\n",
    "    librosa.output.write_wav(name,wave,sr)\n",
    "    \n",
    "def play(y, sr = sr):\n",
    "    return IPython.display.Audio(data=y, rate=sr)\n",
    "\n",
    "def create_note_matrix(start, end, note, vel):\n",
    "    m = matrix(zeros((len(note), 4)))\n",
    "    l = [start, end, note, vel]\n",
    "    for i in range(4):\n",
    "        if type(l[i]) != type([]) and type(l[i]) != type(np.array([])):\n",
    "            m[:,i] = [l[i]]\n",
    "        else:\n",
    "            m[:,i] = matrix(l[i]).T\n",
    "    return m"
   ]
  },
  {
   "cell_type": "markdown",
   "metadata": {},
   "source": [
    "### Human Voice"
   ]
  },
  {
   "cell_type": "code",
   "execution_count": 4,
   "metadata": {
    "collapsed": true
   },
   "outputs": [],
   "source": [
    "def gus(tone, T = .3):\n",
    "    gmin1 =  [cos((2*pi*tone(n/T)*T) + 3.4 * cos(2*pi*tone(n/T)*T/4)) * (sin(12*pi*n) + 18) for n in arange(0., T, 1./sr)]\n",
    "    gmin2 =  [cos((2*pi*tone(n/T)*T*4) + 9 * cos(2*pi*tone(n/T)*T/4)) * (sin(12*pi*n) + 2) for n in arange(0., T, 1./sr)]\n",
    "    fade_in = 1/16\n",
    "    fade_out = 1/8\n",
    "    head = exp(linspace(-5., 0., int(fade_in * T * sr)))\n",
    "    mid = ones(int(T * sr * (1 - fade_in - fade_out)))\n",
    "    tail = exp(linspace(0., -5., int(fade_out * T * sr)))\n",
    "    envelope = conc(head, mid, tail)\n",
    "    return am(add(gmin1, gmin2), envelope)\n",
    "\n",
    "def woman(tone, T = .3):\n",
    "    gmin1 =  [cos((8*pi*tone(n/T)*T) + 3.4 * cos(8*pi*tone(n/T)*T/4)) * (sin(12*pi*n) +\n",
    "                                            17) for n in arange(0., T, 1./sr)]\n",
    "    gmin2 =  [cos((8*pi*tone(n/T)*T*4) + 9 * cos(8*pi*tone(n/T)*T/4)) * (sin(12*pi*n) +\n",
    "                                        2) for n in arange(0., T, 1./sr)]\n",
    "    fade_in = 1/16\n",
    "    fade_out = 1/8\n",
    "    head = exp(linspace(-5., 0., int(fade_in * T * sr)))\n",
    "    mid = ones(int(T * sr * (1 - fade_in - fade_out)))\n",
    "    tail = exp(linspace(0., -5., int(fade_out * T * sr)))\n",
    "    envelope = conc(head, mid, tail)\n",
    "    return am(add(gmin1, gmin2), envelope)\n",
    "\n",
    "def girl(tone, T = .3):\n",
    "    gmin1 =  [cos((10*pi*tone(n/T)*T) + 3.4 * cos(8*pi*tone(n/T)*T/4)) * (sin(24*pi*n) +\n",
    "                                            15) for n in arange(0., T, 1./sr)]\n",
    "    gmin2 =  [cos((10*pi*tone(n/T)*T*4) + 9 * cos(8*pi*tone(n/T)*T/4)) * (sin(24*pi*n) +\n",
    "                                        2) for n in arange(0., T, 1./sr)]\n",
    "    fade_in = 1/16\n",
    "    fade_out = 1/8\n",
    "    head = exp(linspace(-5., 0., int(fade_in * T * sr)))\n",
    "    mid = ones(int(T * sr * (1 - fade_in - fade_out)))\n",
    "    tail = exp(linspace(0., -5., int(fade_out * T * sr)))\n",
    "    envelope = conc(head, mid, tail)\n",
    "    return am(add(gmin1, gmin2), envelope)\n",
    "\n",
    "def boy(tone, T = .3):\n",
    "    gmin1 =  [cos((4*pi*tone(n/T)*T) + 1.4 * cos(4*pi*tone(n/T)*T/4)) * (sin(12*pi*n) +\n",
    "                                            13) for n in arange(0., T, 1./sr)]\n",
    "    gmin2 =  [cos((4*pi*tone(n/T)*T*4) + 13 * cos(4*pi*tone(n/T)*T/4)) * (sin(12*pi*n) +\n",
    "                                        2) for n in arange(0., T, 1./sr)]\n",
    "    fade_in = 1/16\n",
    "    fade_out = 1/8\n",
    "    head = exp(linspace(-5., 0., int(fade_in * T * sr)))\n",
    "    mid = ones(int(T * sr * (1 - fade_in - fade_out)))\n",
    "    tail = exp(linspace(0., -5., int(fade_out * T * sr)))\n",
    "    envelope = conc(head, mid, tail)\n",
    "    return am(add(gmin1, gmin2), envelope)\n",
    "\n",
    "def tone1(x):\n",
    "    return x*688\n",
    "\n",
    "def tone2(x):\n",
    "    sep = .5\n",
    "    start = 488\n",
    "    end = 688\n",
    "    a = (end - start) / sep / 2\n",
    "    if x < sep:\n",
    "        return a * x**2 + start * x\n",
    "    else:\n",
    "        return (x-sep) * end + a * sep**2 + start * sep\n",
    "\n",
    "def tone2_high(x):\n",
    "    sep = .5\n",
    "    start = 488\n",
    "    end = 602\n",
    "    a = (end - start) / sep / 2\n",
    "    if x < sep:\n",
    "        return a * x**2 + start * x\n",
    "    else:\n",
    "        return (x-sep) * end + a * sep**2 + start * sep\n",
    "\n",
    "def tone2_(x):\n",
    "    return x * 602\n",
    "\n",
    "def tone4(x):\n",
    "    a = -200\n",
    "    b = 760\n",
    "    return a * x**2 + b * x\n",
    "\n",
    "def tone3_(x):\n",
    "    start = 265\n",
    "    end = 396\n",
    "    return (end - start)/2 * x**2 + start * x\n",
    "\n",
    "def tone3(x):\n",
    "    sep = .8\n",
    "    start = 265\n",
    "    end = 396\n",
    "    if x < sep:\n",
    "        return x * start\n",
    "    else:\n",
    "        return (x-sep) * end + sep * start"
   ]
  },
  {
   "cell_type": "markdown",
   "metadata": {},
   "source": [
    "## Classifier -- Naiive Bayes"
   ]
  },
  {
   "cell_type": "markdown",
   "metadata": {},
   "source": [
    "### Set Up Dataset"
   ]
  },
  {
   "cell_type": "code",
   "execution_count": null,
   "metadata": {
    "collapsed": true
   },
   "outputs": [],
   "source": [
    "energy=[]\n",
    "for i in range(1,121):\n",
    "    y, sr = librosa.load('Data/MP3/'+str(i)+'.mp3')\n",
    "    librosa.feature.rmse(y=y)\n",
    "    energy.append(np.average(librosa.feature.rmse(y=y)))\n",
    "print(energy)\n",
    "\n",
    "tempo_li=[]\n",
    "for i in range(1,121):\n",
    "    y, sr = librosa.load('Data/MP3/'+str(i)+'.mp3')\n",
    "    onset_env = librosa.onset.onset_strength(y, sr=sr)\n",
    "    tempo = librosa.beat.tempo(onset_envelope=onset_env, sr=sr)\n",
    "    v=tempo[0]\n",
    "    tempo_li.append(v)\n",
    "print(i,tempo_li)"
   ]
  },
  {
   "cell_type": "code",
   "execution_count": null,
   "metadata": {
    "collapsed": true
   },
   "outputs": [],
   "source": [
    "file2 = 'Data/Metadata.csv'\n",
    "#Metadata was manually created for 120 pieces of music\n",
    "\n",
    "user = pd.read_csv(file2, sep=',', encoding='latin-1',skiprows=0)\n",
    "temp=[]\n",
    "for row in user.iterrows():\n",
    "    index, data = row\n",
    "    temp.append(data.tolist())\n",
    "print(temp)\n",
    "temp2 = copy.deepcopy(temp)"
   ]
  },
  {
   "cell_type": "markdown",
   "metadata": {},
   "source": [
    "### Energy-based Prediction Model"
   ]
  },
  {
   "cell_type": "code",
   "execution_count": null,
   "metadata": {
    "collapsed": true
   },
   "outputs": [],
   "source": [
    "val2=[]\n",
    "value=[]\n",
    "used=[]\n",
    "use=copy.deepcopy(used)\n",
    "for i in range (0,83):\n",
    "    num=random.sample(range(1, 120), 1)\n",
    "    used.append(num[0])\n",
    "    val2.append(temp[num[0]][2])\n",
    "    value.append([energy[num[0]]])\n",
    "print(num)\n",
    "X = np.array(value)\n",
    "Y = np.array(val2)\n",
    "X.reshape(1,-1)\n",
    "\n",
    "clf = GaussianNB()\n",
    "clf.fit(X, Y)\n",
    "use=copy.deepcopy(used)\n",
    "print(clf.predict([[0.00066]]))\n",
    "print(used)"
   ]
  },
  {
   "cell_type": "code",
   "execution_count": null,
   "metadata": {
    "collapsed": true
   },
   "outputs": [],
   "source": [
    "total=0\n",
    "accurate=0\n",
    "v=0\n",
    "generated_energy=[]\n",
    "test=[]\n",
    "for i in range(84,120):\n",
    "    num2=random.sample(range(1, 120), 1)\n",
    "    if num2[0] not in used:\n",
    "        test.append(num2[0])\n",
    "        val=clf.predict([[energy[num2[0]]]])\n",
    "        if ([temp2[num2[0]-1][2]]==clf.predict([[energy[num2[0]]]])):\n",
    "            accurate+=1\n",
    "            \n",
    "        total+=1\n",
    "        if((['negative'])==[temp2[num2[0]-1][2]]):\n",
    "            v+=1\n",
    "    generated_energy.append(val.tolist())\n",
    "   \n",
    "\n",
    "result2=(v/total)*100\n",
    "result=(accurate/total)*100\n",
    "print(generated_energy)\n",
    "print('Prediction is '+str(result)+'% accurate.')\n",
    "print('Baseline is ' +str(result2)+ '%')"
   ]
  },
  {
   "cell_type": "markdown",
   "metadata": {},
   "source": [
    "### Tempo-based Prediction Model"
   ]
  },
  {
   "cell_type": "code",
   "execution_count": null,
   "metadata": {
    "collapsed": true
   },
   "outputs": [],
   "source": [
    "used=[]\n",
    "val=[]\n",
    "tempolst=[]\n",
    "tempo_value=[]\n",
    "print(used)\n",
    "for i in range (0,83):\n",
    "    val.append(temp[use[i]][1])\n",
    "    tempo_value.append([tempo_li[use[i]]])\n",
    "\n",
    "X = np.array(tempo_value)\n",
    "Y = np.array(val)\n",
    "X.reshape(1,-1)\n",
    "\n",
    "clf = GaussianNB()\n",
    "clf.fit(X, Y)\n",
    "\n",
    "print(clf.predict([[100]]))"
   ]
  },
  {
   "cell_type": "code",
   "execution_count": null,
   "metadata": {
    "collapsed": true
   },
   "outputs": [],
   "source": [
    "total=0\n",
    "accurate=0\n",
    "v=0\n",
    "generated_tempo=[]\n",
    "for i in range(len(test)):\n",
    "    vv=clf.predict([[tempo_li[test[i]]]])\n",
    "    if ([temp2[test[i]-1][1]]==clf.predict([[tempo_li[test[i]]]])):\n",
    "        accurate+=1\n",
    "    total+=1\n",
    "    if((['calm'])==[temp2[test[i]-1][1]]):\n",
    "        v+=1\n",
    "    generated_tempo.append(vv.tolist())\n",
    "print(len(test))\n",
    "print(len(generated_tempo))\n",
    "print(len(generated_energy))\n",
    "result2=(v/total)*100\n",
    "result=(accurate/total)*100\n",
    "print('Prediction is '+str(result)+'% accurate.')\n",
    "print('Baseline is ' +str(result2)+ '%')"
   ]
  },
  {
   "cell_type": "markdown",
   "metadata": {},
   "source": [
    "### Mood Prediction Model"
   ]
  },
  {
   "cell_type": "code",
   "execution_count": null,
   "metadata": {
    "collapsed": true
   },
   "outputs": [],
   "source": [
    "#Combining the predictions of the tempo-based model, which returned the labels \"calm\" and \"energetic\", with the energy-based\n",
    "#model, which returned the labels \"positive\" and \"negative\", we obtain our final mood prediction and check its accuracy.\n",
    "\n",
    "acc=0\n",
    "tots=0\n",
    "base=0\n",
    "for i in range(len(test)):\n",
    "    print(generated_tempo[i],generated_energy[i],[temp2[test[i]-1][3]])\n",
    "    if generated_tempo[i]== ['calm'] and generated_energy[i]==['positive']:\n",
    "        if [temp2[test[i]-1][3]]== ['calm']:\n",
    "            acc+=1\n",
    "    elif generated_tempo[i]== ['calm'] and generated_energy[i]==['negative']:\n",
    "        if [temp2[test[i]-1][3]]== ['sad']:\n",
    "            acc+=1\n",
    "    elif generated_tempo[i]== ['energetic'] and generated_energy[i]==['positive']:\n",
    "        if [temp2[test[i]-1][3]]== ['happy']:\n",
    "            acc+=1\n",
    "            base+=1\n",
    "    elif generated_tempo[i]== ['energetic'] and generated_energy[i]==['negative']:\n",
    "        if [temp2[test[i]-1][3]]== ['angry']:\n",
    "            acc+=1\n",
    "    tots+=1\n",
    "b_res=base/tots*100\n",
    "res=acc/tots*100\n",
    "print('Prediction '+ str(res)+'% accurate.')\n",
    "print('Baseline ' + str(b_res)+'%')"
   ]
  },
  {
   "cell_type": "markdown",
   "metadata": {},
   "source": [
    "## Generator -- Markov Chain"
   ]
  },
  {
   "cell_type": "markdown",
   "metadata": {},
   "source": [
    "### First Order Markov Chain"
   ]
  },
  {
   "cell_type": "code",
   "execution_count": 5,
   "metadata": {
    "collapsed": true
   },
   "outputs": [],
   "source": [
    "def markov(filename):\n",
    "    midi_data = pretty_midi.PrettyMIDI(filename)\n",
    "    l = []\n",
    "    for i in midi_data.instruments:\n",
    "        if not i.is_drum:\n",
    "            pitches = [n.pitch for n in i.notes]\n",
    "            average_pitch = sum(pitches)/len(pitches)\n",
    "            l.append(average_pitch)\n",
    "        else:\n",
    "            l.append(0)\n",
    "    index = l.index(max(l))\n",
    "    if midi_data.instruments[index].is_drum:\n",
    "        print(\"MAIN MELODY NOT IDENTIFIED\")\n",
    "        return [], [], [], [], [], []\n",
    "    \n",
    "    notes = midi_data.instruments[index].notes\n",
    "    pitches = [n.pitch for n in notes]\n",
    "    velocities = [n.velocity for n in notes]\n",
    "    durs = [(n.end - n.start) for n in notes]\n",
    "    \n",
    "    pitch_id = list(set(pitches))\n",
    "    pitch_id.sort()\n",
    "    \n",
    "    dur_id = list(set(durs))\n",
    "    dur_id.sort()\n",
    "    \n",
    "    vel_id = list(set(velocities))\n",
    "    vel_id.sort()\n",
    "    \n",
    "    Trans_pitch = np.zeros((len(pitch_id),len(pitch_id)))\n",
    "    Trans_dur = np.zeros((len(dur_id),len(dur_id)))\n",
    "    Trans_vel = np.zeros((len(vel_id),len(vel_id)))\n",
    "    \n",
    "    for i in range(len(notes)-1):\n",
    "        if pitches[i] in pitch_id and pitches[i+1] in pitch_id:\n",
    "            p1 = pitch_id.index(pitches[i])\n",
    "            p2 = pitch_id.index(pitches[i+1])\n",
    "            Trans_pitch[p1][p2] = Trans_pitch[p1][p2] + 1\n",
    "            \n",
    "        if durs[i] in dur_id and durs[i+1] in dur_id:\n",
    "            d1 = dur_id.index(durs[i])\n",
    "            d2 = dur_id.index(durs[i+1])\n",
    "            Trans_dur[d1,d2] = Trans_dur[d1,d2] + 1\n",
    "            \n",
    "        if velocities[i] in vel_id and velocities[i+1] in vel_id:\n",
    "            v1 = vel_id.index(velocities[i])\n",
    "            v2 = vel_id.index(velocities[i+1])\n",
    "            Trans_vel[v1,v2] = Trans_vel[v1,v1] + 1\n",
    "            \n",
    "    # normalization\n",
    "    row_sums = Trans_pitch.sum(axis=1)\n",
    "    Trans_pitch = Trans_pitch / row_sums[:, np.newaxis]\n",
    "\n",
    "    row_sums = Trans_dur.sum(axis=1)\n",
    "    Trans_dur = Trans_dur / row_sums[:, np.newaxis]\n",
    "    \n",
    "    row_sums = Trans_vel.sum(axis=1)\n",
    "    Trans_vel = Trans_vel / row_sums[:, np.newaxis]\n",
    "\n",
    "    return Trans_pitch, Trans_dur, Trans_vel, dur_id, pitch_id, vel_id"
   ]
  },
  {
   "cell_type": "markdown",
   "metadata": {},
   "source": [
    "### Second Order Markov Chain"
   ]
  },
  {
   "cell_type": "code",
   "execution_count": 6,
   "metadata": {
    "collapsed": true
   },
   "outputs": [],
   "source": [
    "def markov2(filename):\n",
    "    midi_data = pretty_midi.PrettyMIDI(filename)\n",
    "    l = []\n",
    "    for i in midi_data.instruments:\n",
    "        if not i.is_drum:\n",
    "            pitches = [n.pitch for n in i.notes]\n",
    "            average_pitch = sum(pitches)/len(pitches)\n",
    "            l.append(average_pitch)\n",
    "        else:\n",
    "            l.append(0)\n",
    "    index = l.index(max(l))\n",
    "    if midi_data.instruments[index].is_drum:\n",
    "        print(\"MAIN MELODY NOT IDENTIFIED\")\n",
    "        return [], [], [], [], [], []\n",
    "    \n",
    "    notes = midi_data.instruments[index].notes\n",
    "    pitches = [n.pitch for n in notes]\n",
    "    velocities = [n.velocity for n in notes]\n",
    "    durs = [(n.end - n.start) for n in notes]\n",
    "    \n",
    "    pitch_id = list(set(pitches))\n",
    "    pitch_id.sort()\n",
    "    \n",
    "    vel_id = list(set(velocities))\n",
    "    vel_id.sort()\n",
    "    \n",
    "    dur_id = list(set(durs))\n",
    "    dur_id.sort()\n",
    "    \n",
    "    Trans_pitch = np.zeros(((len(pitch_id),len(pitch_id),len(pitch_id))))\n",
    "    Trans_dur = np.zeros(((len(dur_id),len(dur_id),len(dur_id))))\n",
    "    Trans_vel = np.zeros(((len(vel_id),len(vel_id),len(vel_id))))\n",
    "                         \n",
    "    for i in range(len(notes)-2):\n",
    "        if pitches[i] in pitch_id and pitches[i+1] in pitch_id and pitches[i+2] in pitch_id:\n",
    "            p1 = pitch_id.index(pitches[i])\n",
    "            p2 = pitch_id.index(pitches[i+1])\n",
    "            p3 = pitch_id.index(pitches[i+2])\n",
    "            Trans_pitch[p1][p2][p3]= Trans_pitch[p1][p2][p3] + 1\n",
    "        if durs[i] in dur_id and durs[i+1] in dur_id and durs[i+2] in dur_id:\n",
    "            d1 = dur_id.index(durs[i])\n",
    "            d2 = dur_id.index(durs[i+1])\n",
    "            d3 = dur_id.index(durs[i+2])\n",
    "            Trans_dur[d1,d2,d3] = Trans_dur[d1,d2,d3] + 1\n",
    "        if velocities[i] in vel_id and velocities[i+1] in vel_id and velocities[i+2] in vel_id:\n",
    "            v1 = vel_id.index(velocities[i])\n",
    "            v2 = vel_id.index(velocities[i+1])\n",
    "            v3 = vel_id.index(velocities[i+2])\n",
    "            Trans_vel[v1,v2,v3] = Trans_vel[v1,v1,v3] + 1\n",
    "    \n",
    "    \n",
    "    # normalization -- sums of probabilities along the z-axis equals to 0\n",
    "    z_sums = Trans_pitch.sum(axis=2)\n",
    "\n",
    "    for i in range(len(pitch_id)):\n",
    "        for j in range(len(pitch_id)):\n",
    "            for k in range(len(pitch_id)):\n",
    "                Trans_pitch[i][j][k] = Trans_pitch[i][j][k]/z_sums[i][j]\n",
    "                \n",
    "    \n",
    "    z_sums = Trans_dur.sum(axis=2)\n",
    "    \n",
    "    for i in range(len(dur_id)):\n",
    "        for j in range(len(dur_id)):\n",
    "            for k in range(len(dur_id)):\n",
    "                Trans_dur[i][j][k] = Trans_dur[i][j][k]/z_sums[i][j]\n",
    "    \n",
    "    z_sums = Trans_vel.sum(axis=2)\n",
    "    \n",
    "    for i in range(len(vel_id)):\n",
    "        for j in range(len(vel_id)):\n",
    "            for k in range(len(vel_id)):\n",
    "                Trans_vel[i][j][k] = Trans_vel[i][j][k]/z_sums[i][j]\n",
    "\n",
    "    return Trans_pitch, Trans_dur, Trans_vel, dur_id, pitch_id, vel_id"
   ]
  },
  {
   "cell_type": "markdown",
   "metadata": {},
   "source": [
    "### Training"
   ]
  },
  {
   "cell_type": "code",
   "execution_count": null,
   "metadata": {
    "collapsed": true
   },
   "outputs": [],
   "source": [
    "file2 = 'Data/Metadata.csv'\n",
    "user = pd.read_csv(file2, sep=',', encoding='latin-1',skiprows=0)\n",
    "temp=[]\n",
    "\n",
    "for row in user.iterrows():\n",
    "    index, data = row\n",
    "    for i in [\"happy\", \"sad\",\"calm\",\"angry\"]:\n",
    "        if i in str(data):\n",
    "            temp.append(data.tolist())\n",
    "            temp.append(i)\n",
    "            break\n",
    "print(temp)\n",
    "\n",
    "ls0 = []\n",
    "ls1 = []\n",
    "darklist = []\n",
    "\n",
    "vel_d = {}\n",
    "vel_d2 = {}\n",
    "dur_d = {}\n",
    "pitch_d = {}\n",
    "dur_d2 = {}\n",
    "pitch_d2 = {}\n",
    "\n",
    "for i in range(0,len(temp),2):\n",
    "    ls0.append(temp[i][0])\n",
    "    ls1.append(temp[i+1])\n",
    "    \n",
    "for i in range(len(ls0)):\n",
    "    string = \"Data/MIDI/\" +str(ls0[i])+\".mid\"\n",
    "    Trans_pitch, Trans_dur, Trans_vel, dur_id, pitch_id, vel_id = markov(string)\n",
    "    Trans_pitch2, Trans_dur2, Trans_vel2, dur_id2, pitch_id2, vel_id2 = markov2(string)\n",
    "    \n",
    "    #creates dictionary containing labels as keys and respective lists of matrixes as values\n",
    "    if Trans_pitch != [] and Trans_dur != [] and Trans_pitch2 != [] and Trans_dur2 != [] and Trans_vel != [] and Trans_vel2 != []:\n",
    "        #for first order markov chain\n",
    "        dur_d[ls1[i]] = dur_d.get(ls1[i], []) + [[Trans_dur, dur_id]]\n",
    "        pitch_d[ls1[i]] = pitch_d.get(ls1[i], [])+ [[Trans_pitch, pitch_id]]\n",
    "        vel_d[ls1[i]] = vel_d.get(ls1[i],[]) + [[Trans_vel, vel_id]]\n",
    "        \n",
    "        #for second order markov chain\n",
    "        dur_d2[ls1[i]] = dur_d2.get(ls1[i], []) + [[Trans_dur2, dur_id2]]\n",
    "        pitch_d2[ls1[i]] = pitch_d2.get(ls1[i], [])+ [[Trans_pitch2, pitch_id2]]\n",
    "        vel_d2[ls1[i]] = vel_d2.get(ls1[i],[]) + [[Trans_vel2, vel_id2]]\n",
    "    \n",
    "    else:\n",
    "        darklist.append(ls0[i])"
   ]
  },
  {
   "cell_type": "markdown",
   "metadata": {},
   "source": [
    "### Generation With First Order Markov Chain"
   ]
  },
  {
   "cell_type": "code",
   "execution_count": 7,
   "metadata": {
    "collapsed": true
   },
   "outputs": [],
   "source": [
    "def generate_style(style, N, dur_d, pitch_d, vel_d):\n",
    "    #random combination of duration, velocity, and pitch from different pieces of the same style\n",
    "    dur_pair = random.choice(dur_d[style])\n",
    "    Trans_dur = dur_pair[0]\n",
    "    dur_id = dur_pair[1]\n",
    "   \n",
    "    pitch_pair = random.choice(pitch_d[style])\n",
    "    Trans_pitch = pitch_pair[0]\n",
    "    pitch_id = pitch_pair[1]\n",
    "    \n",
    "    vel_pair = random.choice(vel_d[style])\n",
    "    Trans_vel = vel_pair[0]\n",
    "    vel_id = vel_pair[1]\n",
    "    \n",
    "    # empty note matrix\n",
    "    p_i = pitch_id.index(random.choice(pitch_id)); d_i = dur_id.index(random.choice(dur_id)); v_i = vel_id.index(random.choice(vel_id))\n",
    "    notes2 = np.zeros((N,4))\n",
    "    notes2[0,[0,1,2,3]] = [0, dur_id[d_i], pitch_id[p_i],vel_id[v_i]]\n",
    "    \n",
    "    # roll the dice to generate the rest of the piece\n",
    "    # arguments taken are the list of choices and their corresponding probabilities\n",
    "    for i in range(1,N):\n",
    "        p_i = np.random.choice(np.arange(len(pitch_id)), p = Trans_pitch[p_i,:])\n",
    "        d_i = np.random.choice(np.arange(len(dur_id)), p = Trans_dur[d_i,:])\n",
    "        v_i = np.random.choice(np.arange(len(vel_id)), p = Trans_vel[v_i,:])\n",
    "        offset = notes2[i-1,1]\n",
    "        notes2[i,[0,1,2,3]] = [offset, offset + dur_id[d_i], pitch_id[p_i],vel_id[v_i]]\n",
    "    \n",
    "    notes2[:,[0,1]] = notes2[:,[0,1]]\n",
    "    notes2 = matrix2notes(notes2)\n",
    "    return notes2"
   ]
  },
  {
   "cell_type": "markdown",
   "metadata": {},
   "source": [
    "### Generation With Second Order Markov Chain"
   ]
  },
  {
   "cell_type": "code",
   "execution_count": 8,
   "metadata": {
    "collapsed": true
   },
   "outputs": [],
   "source": [
    "def generate_style2(style, N, dur_d2, pitch_d2, vel_d2):\n",
    "    #random combination of duration, velocity, and pitch from different pieces of the same style\n",
    "    dur_pair = random.choice(dur_d2[style])\n",
    "    Trans_dur = dur_pair[0]\n",
    "    dur_id = dur_pair[1]\n",
    "    \n",
    "    pitch_pair = random.choice(pitch_d2[style])\n",
    "    Trans_pitch = pitch_pair[0]\n",
    "    pitch_id = pitch_pair[1]\n",
    "    \n",
    "    vel_pair = random.choice(vel_d2[style])\n",
    "    Trans_vel = vel_pair[0]\n",
    "    vel_id = vel_pair[1]\n",
    "    \n",
    "    # empty note matrix\n",
    "    p_i = pitch_id.index(random.choice(pitch_id)) ; p_i2 = pitch_id.index(random.choice(pitch_id)); d_i = dur_id.index(random.choice(dur_id)); d_i2 = dur_id.index(random.choice(dur_id))\n",
    "    v_i = vel_id.index(random.choice(vel_id)) ; v_i2 = vel_id.index(random.choice(vel_id))\n",
    "    notes2 = np.zeros((N,4))\n",
    "    notes2[0,[0,1,2,3]] = [0, dur_id[d_i], pitch_id[p_i],vel_id[v_i]]\n",
    "    notes2[1,[0,1,2,3]] = [0, dur_id[d_i2], pitch_id[p_i2],vel_id[v_i2]]\n",
    "    m = len(pitch_id)\n",
    "    n = len(dur_id)\n",
    "    k = len(vel_id)\n",
    "    \n",
    "    # roll the dice to generate the rest of the piece\n",
    "    # arguments taken are the list of choices and their corresponding probabilities\n",
    "    for i in range(2,N-1):\n",
    "        p_i3 = np.random.choice(np.arange(m), p = Trans_pitch[p_i2][p_i,:])\n",
    "        p_i4 = np.random.choice(np.arange(m), p = Trans_pitch[p_i3][p_i2,:])\n",
    "        \n",
    "        d_i3 = np.random.choice(np.arange(n), p = Trans_dur[d_i2][d_i,:])\n",
    "        d_i4 = np.random.choice(np.arange(n), p = Trans_dur[d_i3][d_i2,:])\n",
    "        \n",
    "        v_i3 = np.random.choice(np.arange(k), p = Trans_vel[v_i2][v_i,:])\n",
    "        v_i4 = np.random.choice(np.arange(k), p = Trans_vel[v_i3][v_i2,:])\n",
    "       \n",
    "        offset = notes2[i-1,1]\n",
    "        notes2[i,[0,1,2,3]] = [offset, offset + dur_id[d_i2], pitch_id[p_i2],vel_id[v_i2]]\n",
    "        offset = notes2[i,1]\n",
    "        notes2[i+1,[0,1,2,3]] = [offset, offset + dur_id[d_i3], pitch_id[p_i3],vel_id[v_i3]]\n",
    "        \n",
    "        p_i, p_i2 = p_i3, p_i4\n",
    "        d_i, d_i2 = d_i3, d_i4\n",
    "        v_i, v_i2 = v_i3, v_i4\n",
    "        \n",
    "    notes2[:,[0,1]] = notes2[:,[0,1]]\n",
    "    notes2 = matrix2notes(notes2)\n",
    "    return notes2"
   ]
  },
  {
   "cell_type": "markdown",
   "metadata": {},
   "source": [
    "### Generation Test"
   ]
  },
  {
   "cell_type": "code",
   "execution_count": null,
   "metadata": {
    "collapsed": true
   },
   "outputs": [],
   "source": [
    "voice_music = pretty_midi.PrettyMIDI()\n",
    "\n",
    "voice_program = pretty_midi.instrument_name_to_program('Voice Oohs')\n",
    "voice = pretty_midi.Instrument(program=voice_program)\n",
    "\n",
    "voice.notes = generate_style(\"angry\", 100, dur_d, pitch_d, vel_d) #can change mood as well as order of markov chain used\n",
    "voice_music.instruments = []\n",
    "voice_music.instruments.append(voice)\n",
    "voice_music.write(\"Test.mid\")\n",
    "\n",
    "#All the mood-based music in our composition was generated in a similar way to this test"
   ]
  },
  {
   "cell_type": "markdown",
   "metadata": {},
   "source": [
    "## Composition (aside from the parts that used mood-based generation)"
   ]
  },
  {
   "cell_type": "markdown",
   "metadata": {},
   "source": [
    "### The Dialogue"
   ]
  },
  {
   "cell_type": "code",
   "execution_count": null,
   "metadata": {
    "collapsed": true
   },
   "outputs": [],
   "source": [
    "#怎么又没电了？\n",
    "#play(conc(boy(tone3),boy(tone3_),boy(tone4),boy(tone3_),boy(tone4),boy(tone3_)))\n",
    "librosa.output.write_wav(\"voice1.wav\",conc(boy(tone3),boy(tone3_),boy(tone4),boy(tone3_),boy(tone4),boy(tone3_)),22050)\n",
    "\n",
    "#嗯？\n",
    "#play(boy(tone3_, T = .5))\n",
    "librosa.output.write_wav(\"voice2.wav\",boy(tone3_, T = .5),22050)\n",
    "\n",
    "#哇！好神奇！\n",
    "#play(conc(boy(tone4, T = .5),boy(tone3),boy(tone3_),boy(tone3_)))\n",
    "librosa.output.write_wav(\"voice3.wav\",conc(boy(tone4, T = .5),boy(tone3),boy(tone3_),boy(tone3_)),22050)\n",
    "\n",
    "#你还能做什么？\n",
    "#play(conc(boy(tone3),boy(tone3_),boy(tone2),boy(tone4),boy(tone3_),boy(tone1)))\n",
    "librosa.output.write_wav(\"voice4.wav\",conc(boy(tone3),boy(tone3_),boy(tone2),boy(tone4),boy(tone3_),boy(tone1)),22050)\n",
    "\n",
    "#干什么呢！不好好学习！罚你一个月不许出去玩儿！\n",
    "#play(conc(woman(tone4),woman(tone2),woman(tone2_),woman(tone4, T=.5),woman(tone4),woman(tone3),woman(tone3),woman(tone2),woman(tone2,T=.5),woman(tone2),woman(tone3),woman(tone3_),woman(tone2_),woman(tone4),woman(tone4),woman(tone3),woman(tone1),woman(tone4),woman(tone2)))\n",
    "librosa.output.write_wav('voice5.wav',conc(woman(tone4),woman(tone2),woman(tone2_),woman(tone4, T=.5),woman(tone4),woman(tone3),woman(tone3),woman(tone2),woman(tone2,T=.5),woman(tone2),woman(tone3),woman(tone3_),woman(tone2_),woman(tone4),woman(tone4),woman(tone3),woman(tone1),woman(tone4),woman(tone2)),22050)\n",
    "\n",
    "#哎，怎么会这样。。。。\n",
    "#play(conc(boy(tone4,T=.7),boy(tone3, T=.2),boy(tone3_,T=.2),boy(tone2,T=.3),boy(tone4),boy(tone4, T=.5)))\n",
    "librosa.output.write_wav(\"voice6.wav\",conc(boy(tone4,T=.7),boy(tone3, T=.2),boy(tone3_,T=.2),boy(tone2,T=.3),boy(tone4),boy(tone4, T=.5)),22050)\n",
    "\n",
    "#你在嘲笑我吗？都怪你！都怪你！\n",
    "#play(conc(boy(tone3),boy(tone4),boy(tone2),boy(tone4,T=.2),boy(tone3),boy(tone2_, T = .5), boy(tone1),boy(tone4),boy(tone3_,T =.5), boy(tone1),boy(tone4),boy(tone3_,T =.5)))\n",
    "librosa.output.write_wav(\"voice7.wav\",conc(boy(tone3),boy(tone4),boy(tone2),boy(tone4,T=.2),boy(tone3),boy(tone2_, T = .5), boy(tone1),boy(tone4),boy(tone3_,T =.5), boy(tone1),boy(tone4),boy(tone3_,T =.5)),22050)\n",
    "\n",
    "#昨天玩儿的很开心，以后有机会再约哦！\"\n",
    "#play(conc(girl(tone2),girl(tone1),girl(tone2),girl(tone4,T=.2),girl(tone3,T=.4),girl(tone1),girl(tone1, T=.5), girl(tone3), girl(tone4,T=.4), girl(tone3), girl(tone1), girl(tone4,T=.2), girl(tone4), girl(tone1), girl(tone2_, T=.5)))\n",
    "librosa.output.write_wav(\"voice8.wav\",conc(girl(tone2),girl(tone1),girl(tone2),girl(tone4,T=.2),girl(tone3,T=.4),girl(tone1),girl(tone1, T=.5), girl(tone3), girl(tone4,T=.4), girl(tone3), girl(tone1), girl(tone4,T=.2), girl(tone4), girl(tone1), girl(tone2_, T=.5)),22050)\n",
    "\n",
    "#yes!太好了！太好了！\n",
    "#play(conc(boy(tone4, T=.5), boy(tone4), boy(tone3), boy(tone3_), boy(tone4), boy(tone3), boy(tone3_, T=.5)))\n",
    "librosa.output.write_wav(\"voice9.wav\",conc(boy(tone4, T=.5), boy(tone4), boy(tone3), boy(tone3_), boy(tone4), boy(tone3), boy(tone3_, T=.5)),22050)\n",
    "\n",
    "#哎，人生，太美好了\n",
    "#play(conc(boy(tone4, T=.5), boy(tone2), boy(tone1, T=.5), boy(tone4), boy(tone2), boy(tone3), boy(tone2_, T=.5)))\n",
    "librosa.output.write_wav(\"voice10.wav\",conc(boy(tone4, T=.5), boy(tone2), boy(tone1, T=.5), boy(tone4), boy(tone2), boy(tone3), boy(tone2_, T=.5)),22050)\n",
    "\n",
    "#啊对你还有什么功--\n",
    "#play(conc(boy(tone1), boy(tone4, T=.5), boy(tone3), boy(tone2), boy(tone3), boy(tone3_), boy(tone2_), boy(tone1, T=.1)))\n",
    "librosa.output.write_wav(\"voice11.wav\",conc(boy(tone1), boy(tone4, T=.5), boy(tone3), boy(tone2), boy(tone3), boy(tone3_), boy(tone2_), boy(tone1, T=.1)),22050)"
   ]
  },
  {
   "cell_type": "markdown",
   "metadata": {},
   "source": [
    "### The iPhone Sounds"
   ]
  },
  {
   "cell_type": "code",
   "execution_count": 9,
   "metadata": {
    "collapsed": true
   },
   "outputs": [],
   "source": [
    "def charge(f,T=1.):\n",
    "    return [sin(8*pi*f*n + (4*n) * sin(4*pi*f*n)) * exp(-5*n) for n in arange(0.,T,1./44100)]"
   ]
  },
  {
   "cell_type": "code",
   "execution_count": null,
   "metadata": {
    "collapsed": true
   },
   "outputs": [],
   "source": [
    "#the remix\n",
    "play(conc(charge(440,T=.5),charge(440,T=.5),charge(440,T=.5),charge(440,T=.125),charge(466,T=.125),charge(440,T=.125),charge(466,T=.125),charge(440,T=.5),charge(440,T=.5),charge(440,T=.5),charge(440,T=.125),charge(466,T=.125),charge(523,T=.125),charge(466,T=.125),charge(440,T=.5),charge(440,T=.5),charge(440,T=.5),charge(440,T=.125),charge(392,T=.125),charge(349,T=.125),charge(329,T=.125),charge(294,T=.5),charge(294,T=.5),charge(294)))"
   ]
  },
  {
   "cell_type": "code",
   "execution_count": null,
   "metadata": {
    "collapsed": true
   },
   "outputs": [],
   "source": [
    "#the ringtone\n",
    "apple = pretty_midi.PrettyMIDI()\n",
    "p = pretty_midi.instrument_name_to_program(\"Marimba\")\n",
    "marimba = pretty_midi.Instrument(p)\n",
    "\n",
    "note_names1 = [\"C3\",\"Bb3\",\"A3\",\"Eb3\",\"C3\",\"E3\",\"F3\",\"C3\",\"Bb3\",\"A3\",\"Eb3\",\"C3\",\"E3\",\"F3\"]\n",
    "starts1 = [0,0.75,1.75,2.75,3.25,3.5,3.75,4,4.75,5.75,6.75,7.25,7.5,7.75]\n",
    "ends1 = [0.75,1.75,2,3.25,3.5,3.75,4,4.75,5.75,6,7.25,7.5,7.75,8]\n",
    "\n",
    "note_names2 = [\"C5\",\"Bb4\",\"G4\",\"C5\",\"F4\",\"C5\",\"Bb4\",\"C5\",\"F4\",\"G4\",\"G4\",\"Bb4\",\"C5\",\"C5\",\"Bb4\",\"G4\",\"C5\",\"F4\",\"C5\",\"Bb4\",\"C5\",\"F4\",\"G4\",\"G4\",\"Bb4\",\"C5\"]\n",
    "starts2 = [0,0.125,0.25,0.5,0.75,1,1.25,1.5,1.75,2.75,3.25,3.5,3.75,4,4.125,4.25,4.5,4.75,5,5.25,5.5,5.75,6.75,7.25,7.5,7.75]\n",
    "ends2 = [0.125,0.25,0.5,0.75,1,1.25,1.5,1.75,2,3.25,3.5,3.75,4,4.125,4.25,4.5,4.75,5,5.25,5.5,5.75,6,7.25,7.5,7.75,8]\n",
    "\n",
    "note_names = note_names1 + note_names2\n",
    "starts = starts1 + starts2\n",
    "ends = ends1 + ends2\n",
    "\n",
    "notes = []\n",
    "for i in note_names:\n",
    "    notes.append(pretty_midi.note_name_to_number(i))\n",
    "\n",
    "marimba.notes = []\n",
    "apple.instruments = []\n",
    "marimba.notes = matrix2notes(create_note_matrix(np.array(starts),np.array(ends),notes,100))\n",
    "apple.instruments.append(marimba)\n",
    "play(apple.synthesize(44100))"
   ]
  },
  {
   "cell_type": "markdown",
   "metadata": {},
   "source": [
    "### Other Sounds"
   ]
  },
  {
   "cell_type": "code",
   "execution_count": 11,
   "metadata": {
    "collapsed": true
   },
   "outputs": [],
   "source": [
    "#the claps and footsteps and door knocks\n",
    "music = pretty_midi.PrettyMIDI()\n",
    "program = pretty_midi.instrument_name_to_program(\"Applause\")\n",
    "a = pretty_midi.Instrument(program,is_drum = True)\n",
    "a.notes = []\n",
    "\n",
    "start = .5\n",
    "end =.9\n",
    "for i in range(15):\n",
    "    a.notes.append(pretty_midi.Note(100,39,start,end))\n",
    "    start += 1\n",
    "    end = start + 0.4\n",
    "    \n",
    "music.instruments = []\n",
    "music.instruments.append(a)\n",
    "\n",
    "music.write(\"clap.mid\")"
   ]
  },
  {
   "cell_type": "code",
   "execution_count": null,
   "metadata": {
    "collapsed": true
   },
   "outputs": [],
   "source": [
    "#the bit-wise BGM\n",
    "bgm = [abs((t*math.pow(1,(0x75054970>>((t>>13&7)<<2)&0xF)/12+2)*((t>>11&3)+1))%256-128)-64 for t in range(64000 * 4)]\n",
    "plt.plot(bgm,'.')\n",
    "plt.show()\n",
    "IPython.display.Audio(data=bgm, rate=8000) # press the \"play\" button to hear audio"
   ]
  },
  {
   "cell_type": "code",
   "execution_count": null,
   "metadata": {
    "collapsed": true
   },
   "outputs": [],
   "source": [
    "#the buzzing sound in the remix part\n",
    "Fm = 886; index = 100\n",
    "gmin2 =  [cos(2*pi*440*n + index * cos(2*pi*Fm*n))*(exp(-5*n)) for n in arange(0.,2,1./44100)]\n",
    "gmin2 = np.array(gmin2, np.double)\n",
    "IPython.display.Audio(data=gmin2, rate=44100) # press the \"play\" button to hear audio"
   ]
  }
 ],
 "metadata": {
  "kernelspec": {
   "display_name": "Python 3",
   "language": "python",
   "name": "python3"
  },
  "language_info": {
   "codemirror_mode": {
    "name": "ipython",
    "version": 3
   },
   "file_extension": ".py",
   "mimetype": "text/x-python",
   "name": "python",
   "nbconvert_exporter": "python",
   "pygments_lexer": "ipython3",
   "version": "3.6.3"
  }
 },
 "nbformat": 4,
 "nbformat_minor": 2
}
